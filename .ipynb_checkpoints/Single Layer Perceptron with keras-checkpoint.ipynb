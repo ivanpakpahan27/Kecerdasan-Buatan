{
 "cells": [
  {
   "cell_type": "code",
   "execution_count": 21,
   "id": "56eeba68",
   "metadata": {},
   "outputs": [],
   "source": [
    "#mengimport library yang dibutuhkan\n",
    "import numpy as np\n",
    "from keras.models import Sequential\n",
    "from keras.layers import Dense\n",
    "from matplotlib import pyplot as plt"
   ]
  },
  {
   "cell_type": "code",
   "execution_count": 22,
   "id": "0392dfc7",
   "metadata": {},
   "outputs": [],
   "source": [
    "#mendefinisikan input training (gerbang AND)\n",
    "inputTraining = np.array([[-1,-1],[-1,1],[1,-1],[1,1]])\n",
    "labelTraining = np.array([[-1],[-1],[-1],[1]])\n",
    "\n",
    "#mendefinisikan klasifier NN\n",
    "inputSize = inputTraining.shape[1]\n",
    "model = Sequential()\n",
    "model.add(Dense(units=1, input_dim=inputSize, use_bias=True,\n",
    "                kernel_initializer = 'zeros',\n",
    "                bias_initializer = 'zeros'))\n",
    "model.compile(loss='mean_squared_error',\n",
    "              optimizer='sgd')"
   ]
  },
  {
   "cell_type": "code",
   "execution_count": 23,
   "id": "6510df9e",
   "metadata": {},
   "outputs": [
    {
     "name": "stdout",
     "output_type": "stream",
     "text": [
      "Epoch 1/50\n",
      "4/4 [==============================] - 1s 2ms/step - loss: 0.9933\n",
      "Epoch 2/50\n",
      "4/4 [==============================] - 0s 3ms/step - loss: 0.8771\n",
      "Epoch 3/50\n",
      "4/4 [==============================] - 0s 3ms/step - loss: 0.7807\n",
      "Epoch 4/50\n",
      "4/4 [==============================] - 0s 3ms/step - loss: 0.7390\n",
      "Epoch 5/50\n",
      "4/4 [==============================] - 0s 4ms/step - loss: 0.6767\n",
      "Epoch 6/50\n",
      "4/4 [==============================] - 0s 6ms/step - loss: 0.6228\n",
      "Epoch 7/50\n",
      "4/4 [==============================] - 0s 3ms/step - loss: 0.6112\n",
      "Epoch 8/50\n",
      "4/4 [==============================] - 0s 2ms/step - loss: 0.3832\n",
      "Epoch 9/50\n",
      "4/4 [==============================] - 0s 7ms/step - loss: 0.4980\n",
      "Epoch 10/50\n",
      "4/4 [==============================] - 0s 2ms/step - loss: 0.3165\n",
      "Epoch 11/50\n",
      "4/4 [==============================] - 0s 2ms/step - loss: 0.4433\n",
      "Epoch 12/50\n",
      "4/4 [==============================] - 0s 3ms/step - loss: 0.3701\n",
      "Epoch 13/50\n",
      "4/4 [==============================] - 0s 3ms/step - loss: 0.2585\n",
      "Epoch 14/50\n",
      "4/4 [==============================] - 0s 4ms/step - loss: 0.2469\n",
      "Epoch 15/50\n",
      "4/4 [==============================] - 0s 2ms/step - loss: 0.2364\n",
      "Epoch 16/50\n",
      "4/4 [==============================] - 0s 5ms/step - loss: 0.2309\n",
      "Epoch 17/50\n",
      "4/4 [==============================] - 0s 3ms/step - loss: 0.3700\n",
      "Epoch 18/50\n",
      "4/4 [==============================] - 0s 3ms/step - loss: 0.3612\n",
      "Epoch 19/50\n",
      "4/4 [==============================] - 0s 2ms/step - loss: 0.2208\n",
      "Epoch 20/50\n",
      "4/4 [==============================] - 0s 6ms/step - loss: 0.3176\n",
      "Epoch 21/50\n",
      "4/4 [==============================] - 0s 3ms/step - loss: 0.3109\n",
      "Epoch 22/50\n",
      "4/4 [==============================] - 0s 3ms/step - loss: 0.3059\n",
      "Epoch 23/50\n",
      "4/4 [==============================] - 0s 2ms/step - loss: 0.2191\n",
      "Epoch 24/50\n",
      "4/4 [==============================] - 0s 10ms/step - loss: 0.3146\n",
      "Epoch 25/50\n",
      "4/4 [==============================] - 0s 3ms/step - loss: 0.3102\n",
      "Epoch 26/50\n",
      "4/4 [==============================] - 0s 2ms/step - loss: 0.2905\n",
      "Epoch 27/50\n",
      "4/4 [==============================] - 0s 2ms/step - loss: 0.3022\n",
      "Epoch 28/50\n",
      "4/4 [==============================] - 0s 2ms/step - loss: 0.2260\n",
      "Epoch 29/50\n",
      "4/4 [==============================] - 0s 2ms/step - loss: 0.2830\n",
      "Epoch 30/50\n",
      "4/4 [==============================] - 0s 2ms/step - loss: 0.2292\n",
      "Epoch 31/50\n",
      "4/4 [==============================] - 0s 8ms/step - loss: 0.2314\n",
      "Epoch 32/50\n",
      "4/4 [==============================] - 0s 2ms/step - loss: 0.2839\n",
      "Epoch 33/50\n",
      "4/4 [==============================] - 0s 2ms/step - loss: 0.2590\n",
      "Epoch 34/50\n",
      "4/4 [==============================] - 0s 3ms/step - loss: 0.2607\n",
      "Epoch 35/50\n",
      "4/4 [==============================] - 0s 4ms/step - loss: 0.2794\n",
      "Epoch 36/50\n",
      "4/4 [==============================] - 0s 2ms/step - loss: 0.2784\n",
      "Epoch 37/50\n",
      "4/4 [==============================] - 0s 3ms/step - loss: 0.2689\n",
      "Epoch 38/50\n",
      "4/4 [==============================] - 0s 3ms/step - loss: 0.2751\n",
      "Epoch 39/50\n",
      "4/4 [==============================] - 0s 4ms/step - loss: 0.2422\n",
      "Epoch 40/50\n",
      "4/4 [==============================] - 0s 3ms/step - loss: 0.2669\n",
      "Epoch 41/50\n",
      "4/4 [==============================] - 0s 3ms/step - loss: 0.2720\n",
      "Epoch 42/50\n",
      "4/4 [==============================] - 0s 3ms/step - loss: 0.2597\n",
      "Epoch 43/50\n",
      "4/4 [==============================] - 0s 8ms/step - loss: 0.2576\n",
      "Epoch 44/50\n",
      "4/4 [==============================] - 0s 3ms/step - loss: 0.2696\n",
      "Epoch 45/50\n",
      "4/4 [==============================] - 0s 3ms/step - loss: 0.2591\n",
      "Epoch 46/50\n",
      "4/4 [==============================] - 0s 2ms/step - loss: 0.2638\n",
      "Epoch 47/50\n",
      "4/4 [==============================] - 0s 3ms/step - loss: 0.2490\n",
      "Epoch 48/50\n",
      "4/4 [==============================] - 0s 3ms/step - loss: 0.2637\n",
      "Epoch 49/50\n",
      "4/4 [==============================] - 0s 3ms/step - loss: 0.2594\n",
      "Epoch 50/50\n",
      "4/4 [==============================] - 0s 4ms/step - loss: 0.2639\n"
     ]
    },
    {
     "data": {
      "text/plain": [
       "<keras.callbacks.History at 0x1a82ee3c588>"
      ]
     },
     "execution_count": 23,
     "metadata": {},
     "output_type": "execute_result"
    }
   ],
   "source": [
    "#train NN\n",
    "model.fit(inputTraining, labelTraining, epochs=50, batch_size=1)"
   ]
  },
  {
   "cell_type": "code",
   "execution_count": 24,
   "id": "8823ae18",
   "metadata": {},
   "outputs": [],
   "source": [
    "#memprediksi data testing dengan model NN yg sdh ditraining\n",
    "hasilPrediksi = np.sign(model.predict(inputTraining, batch_size=1).ravel())"
   ]
  },
  {
   "cell_type": "code",
   "execution_count": 25,
   "id": "049acddc",
   "metadata": {},
   "outputs": [
    {
     "name": "stdout",
     "output_type": "stream",
     "text": [
      "label ground truth:\n",
      " [[-1]\n",
      " [-1]\n",
      " [-1]\n",
      " [ 1]]\n",
      "hasil prediksi:\n",
      " [-1. -1. -1.  1.]\n"
     ]
    }
   ],
   "source": [
    "print(\"label ground truth:\\n\", labelTraining)\n",
    "print(\"hasil prediksi:\\n\", hasilPrediksi)"
   ]
  },
  {
   "cell_type": "code",
   "execution_count": 26,
   "id": "f0aed811",
   "metadata": {},
   "outputs": [
    {
     "name": "stdout",
     "output_type": "stream",
     "text": [
      "bobot W:\n",
      " [[array([[0.49238646],\n",
      "       [0.49169886]], dtype=float32), array([-0.4897687], dtype=float32)]]\n"
     ]
    }
   ],
   "source": [
    "#print bobot hasil training\n",
    "weights = []\n",
    "for layer in model.layers:\n",
    "    weights.append(layer.get_weights())\n",
    "print(\"bobot W:\\n\", weights)"
   ]
  },
  {
   "cell_type": "code",
   "execution_count": 27,
   "id": "b758bd62",
   "metadata": {},
   "outputs": [
    {
     "name": "stdout",
     "output_type": "stream",
     "text": [
      "WARNING:tensorflow:5 out of the last 712 calls to <function Model.make_predict_function.<locals>.predict_function at 0x000001A82EE6E798> triggered tf.function retracing. Tracing is expensive and the excessive number of tracings could be due to (1) creating @tf.function repeatedly in a loop, (2) passing tensors with different shapes, (3) passing Python objects instead of tensors. For (1), please define your @tf.function outside of the loop. For (2), @tf.function has experimental_relax_shapes=True option that relaxes argument shapes that can avoid unnecessary retracing. For (3), please refer to https://www.tensorflow.org/guide/function#controlling_retracing and https://www.tensorflow.org/api_docs/python/tf/function for  more details.\n"
     ]
    },
    {
     "data": {
      "image/png": "[encoded data removed]",
      "text/plain": [
       "<Figure size 432x288 with 1 Axes>"
      ]
     },
     "metadata": {
      "needs_background": "light"
     },
     "output_type": "display_data"
    }
   ],
   "source": [
    "#kode di bawah ini untuk mengeplot decision boundary saja\n",
    "\n",
    "#fungsi untuk membuat mesh points sebagai input\n",
    "#saat mengeplot contour dari decision boundary\n",
    "def make_meshgrid(x, y, h=.02):\n",
    "    x_min, x_max = x.min() - 1, x.max() + 1\n",
    "    y_min, y_max = y.min() - 1, y.max() + 1\n",
    "    xx, yy = np.meshgrid(np.arange(x_min, x_max, h),\n",
    "                         np.arange(y_min, y_max, h))\n",
    "    return xx, yy\n",
    "\n",
    "#fungsi untuk mengeplot contour dari decision boundary\n",
    "def plot_contours(clf, xx, yy, **params):\n",
    "    input_mesh = np.c_[xx.ravel(), yy.ravel()]\n",
    "    Z = np.sign(clf.predict(input_mesh))\n",
    "    Z = Z.reshape(xx.shape)\n",
    "    out = plt.contourf(xx, yy, Z, **params)\n",
    "    return out\n",
    "\n",
    "#plot decision boundary\n",
    "X0, X1 = inputTraining[:, 0], inputTraining[:, 1]\n",
    "xx, yy = make_meshgrid(X0, X1)\n",
    "plt.figure()\n",
    "plt.title(\"Decision boundary\")\n",
    "plot_contours(model, xx, yy,  cmap=plt.cm.gray, alpha=0.8)\n",
    "plt.scatter(X0[labelTraining.ravel()==1], X1[labelTraining.ravel()==1],\n",
    "            marker='^', s=70, c='black', label='True (+1)')\n",
    "plt.scatter(X0[labelTraining.ravel()==-1], X1[labelTraining.ravel()==-1],\n",
    "            marker='x', s=80, c='black', label='False (-1)')\n",
    "plt.legend()\n",
    "plt.xlabel('X1')\n",
    "plt.ylabel('X2')\n",
    "plt.show()"
   ]
  },
  {
   "cell_type": "code",
   "execution_count": null,
   "id": "8124369e",
   "metadata": {},
   "outputs": [],
   "source": []
  }
 ],
 "metadata": {
  "kernelspec": {
   "display_name": "Python 3",
   "language": "python",
   "name": "python3"
  },
  "language_info": {
   "codemirror_mode": {
    "name": "ipython",
    "version": 3
   },
   "file_extension": ".py",
   "mimetype": "text/x-python",
   "name": "python",
   "nbconvert_exporter": "python",
   "pygments_lexer": "ipython3",
   "version": "3.7.7"
  }
 },
 "nbformat": 4,
 "nbformat_minor": 5
}
